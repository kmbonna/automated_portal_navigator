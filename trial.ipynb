{
 "cells": [
  {
   "cell_type": "code",
   "execution_count": 94,
   "id": "ca810526-5ea1-4fb8-97aa-3d667dbc74fb",
   "metadata": {},
   "outputs": [],
   "source": [
    "def find_toggle_and_save():\n",
    "    #time.sleep(2)\n",
    "    job_board_button = WebDriverWait(driver, 30).until(\n",
    "        EC.element_to_be_clickable((By.CSS_SELECTOR, \"#job_boards > div.inline-block-card > div\"))\n",
    "    )\n",
    "    print(\"found job board\")\n",
    "    \n",
    "        \n",
    "    time.sleep(2)\n",
    "    job_board_button.click()\n",
    "    #time.sleep(2)\n",
    "    print(\"clicked job board\")\n",
    "    \n",
    "    time.sleep(2)\n",
    "    \n",
    "    toggle_all_button = WebDriverWait(driver, 30).until(\n",
    "        EC.presence_of_all_elements_located((By.CLASS_NAME, \"toggle-btn\"))\n",
    "    )\n",
    "    print(\"found toggle\")\n",
    "                        \n",
    "    time.sleep(2)\n",
    "    toggle_all_button[0].click()\n",
    "    print(\"clicked toggle\")\n",
    "    time.sleep(2)   #arbitrary time wait\n",
    "    \n",
    "    save_button = WebDriverWait(driver, 30).until(\n",
    "    EC.element_to_be_clickable((By.XPATH, \"/html/body/div[5]/div[1]/div/div/form/button[2]\"))\n",
    "    )\n",
    "    \n",
    "    print(\"found save\")\n",
    "    time.sleep(2)\n",
    "    save_button.click()\n",
    "    \n",
    "    print(\"clicked save\")\n",
    "    time.sleep(4)\n",
    "\n",
    "    # Check if the current URL is a 404 error page\n",
    "    if \"kalam.freshteam.com/404\" in driver.current_url:\n",
    "        print(\"Encountered a 404 Error\")\n",
    "        driver.back()  # Navigate back\n",
    "        print(\"Navigated back to the previous page.\")"
   ]
  },
  {
   "cell_type": "code",
   "execution_count": 95,
   "id": "526ebc98-83d2-4636-b434-833374f12159",
   "metadata": {},
   "outputs": [],
   "source": [
    "def check_login(driver):\n",
    "    try:\n",
    "        # Check for a specific element that indicates successful login\n",
    "        WebDriverWait(driver, 1).until(\n",
    "            EC.presence_of_element_located((By.ID, 'ember675'))\n",
    "        )\n",
    "        return True\n",
    "    except:\n",
    "        return False"
   ]
  },
  {
   "cell_type": "code",
   "execution_count": 99,
   "id": "b6cf9926-787e-44f2-9524-6481523a8097",
   "metadata": {},
   "outputs": [],
   "source": [
    "from selenium import webdriver\n",
    "from selenium.webdriver.common.by import By\n",
    "from selenium.webdriver.common.keys import Keys\n",
    "from selenium.webdriver.support.ui import WebDriverWait\n",
    "from selenium.common.exceptions import WebDriverException\n",
    "from selenium.webdriver.support import expected_conditions as EC\n",
    "from selenium.webdriver.chrome.service import Service\n",
    "\n",
    "import pandas as pd\n",
    "import time\n",
    "\n",
    "# For .xlsx files\n",
    "df = pd.read_excel('Published Jobs.xlsx', engine='openpyxl')\n",
    "\n",
    "urls = df['Jobs URL']\n",
    "\n",
    "\n",
    "# Path to your WebDriver executable\n",
    "path = r\"chromedriver-win64\\chromedriver.exe\"\n",
    "\n",
    "# Create a Service object to pass to WebDriver\n",
    "service = Service(executable_path=path)\n",
    "\n",
    "# Now, initialize your driver with this service\n",
    "driver = webdriver.Chrome(service=service)\n",
    "\n",
    "\n",
    "driver.get(urls[1])"
   ]
  },
  {
   "cell_type": "code",
   "execution_count": 97,
   "id": "2443ab73-7570-4378-9b02-4f2252e4ccf2",
   "metadata": {},
   "outputs": [],
   "source": [
    "driver.get(urls[1])"
   ]
  },
  {
   "cell_type": "code",
   "execution_count": 96,
   "id": "0bc3bc60",
   "metadata": {},
   "outputs": [
    {
     "name": "stdin",
     "output_type": "stream",
     "text": [
      "Please log in through the browser and press enter here once you are logged in. \n"
     ]
    },
    {
     "name": "stdout",
     "output_type": "stream",
     "text": [
      "Login successful, continuing script...\n",
      "Progress: 0% complete\n",
      "found job board\n",
      "clicked job board\n",
      "found toggle\n",
      "clicked toggle\n",
      "found save\n",
      "clicked save\n",
      "Encountered a 404 Error\n",
      "Navigated back to the previous page.\n",
      "found job board\n",
      "clicked job board\n",
      "found toggle\n",
      "clicked toggle\n",
      "found save\n",
      "clicked save\n"
     ]
    }
   ],
   "source": [
    "from selenium import webdriver\n",
    "from selenium.webdriver.common.by import By\n",
    "from selenium.webdriver.common.keys import Keys\n",
    "from selenium.webdriver.support.ui import WebDriverWait\n",
    "from selenium.common.exceptions import WebDriverException\n",
    "from selenium.webdriver.support import expected_conditions as EC\n",
    "from selenium.webdriver.chrome.service import Service\n",
    "\n",
    "import pandas as pd\n",
    "import time\n",
    "\n",
    "# For .xlsx files\n",
    "df = pd.read_excel('Published Jobs.xlsx', engine='openpyxl')\n",
    "\n",
    "urls = df['Jobs URL']\n",
    "\n",
    "\n",
    "# Path to your WebDriver executable\n",
    "path = r\"C:\\Program Files (x86)\\chromedriver.exe\"\n",
    "\n",
    "# Create a Service object to pass to WebDriver\n",
    "service = Service(executable_path=path)\n",
    "\n",
    "# Now, initialize your driver with this service\n",
    "driver = webdriver.Chrome(service=service)\n",
    "\n",
    "\n",
    "driver.get(urls[0])\n",
    "\n",
    "\n",
    "while True:\n",
    "    input(\"Please log in through the browser and press enter here once you are logged in.\")\n",
    "        \n",
    "    if check_login(driver):\n",
    "        print(\"Login successful, continuing script...\")\n",
    "        break  # Exit the loop if login is successful\n",
    "    else:\n",
    "        print(\"Login not completed. Please try again.\")\n",
    "\n",
    "\n",
    "for i,url in enumerate(urls[0:1]):\n",
    "    state = 'Online'\n",
    "    if (i % step == 0):\n",
    "        print(f\"Progress: {round(i / len(urls) * 100)}% complete\")\n",
    "        \n",
    "    try:\n",
    "        driver.get(url)\n",
    "        #time.sleep(4) \n",
    "\n",
    "        find_toggle_and_save()\n",
    "        \n",
    "        state = 'Offline' \n",
    "        \n",
    "        \n",
    "        find_toggle_and_save()\n",
    "        \n",
    "        state = 'Online' \n",
    "\n",
    "    except WebDriverException as e:\n",
    "        print(f\"An error occurred when the state was '{state}' at URL: {url} with row number {i+2}\")\n",
    "        print(\"Error details:\", str(e))\n",
    "print(f\"100% Completed, Done!\")"
   ]
  },
  {
   "cell_type": "markdown",
   "id": "7766845e",
   "metadata": {},
   "source": [
    "#### Read excel file"
   ]
  },
  {
   "cell_type": "code",
   "execution_count": 3,
   "id": "23308fd7",
   "metadata": {},
   "outputs": [],
   "source": [
    "# For .xlsx files\n",
    "df = pd.read_excel('Published Jobs.xlsx', engine='openpyxl')"
   ]
  },
  {
   "cell_type": "code",
   "execution_count": 4,
   "id": "619c2b30-58ed-42df-b174-f9000382b9f3",
   "metadata": {},
   "outputs": [
    {
     "data": {
      "text/html": [
       "<div>\n",
       "<style scoped>\n",
       "    .dataframe tbody tr th:only-of-type {\n",
       "        vertical-align: middle;\n",
       "    }\n",
       "\n",
       "    .dataframe tbody tr th {\n",
       "        vertical-align: top;\n",
       "    }\n",
       "\n",
       "    .dataframe thead th {\n",
       "        text-align: right;\n",
       "    }\n",
       "</style>\n",
       "<table border=\"1\" class=\"dataframe\">\n",
       "  <thead>\n",
       "    <tr style=\"text-align: right;\">\n",
       "      <th></th>\n",
       "      <th>Jobs URL</th>\n",
       "      <th>Updated on</th>\n",
       "    </tr>\n",
       "  </thead>\n",
       "  <tbody>\n",
       "    <tr>\n",
       "      <th>0</th>\n",
       "      <td>https://kalam.freshteam.com/hire/jobs/50000742...</td>\n",
       "      <td>2024-06-03</td>\n",
       "    </tr>\n",
       "    <tr>\n",
       "      <th>1</th>\n",
       "      <td>https://kalam.freshteam.com/hire/jobs/50000749...</td>\n",
       "      <td>2024-06-03</td>\n",
       "    </tr>\n",
       "    <tr>\n",
       "      <th>2</th>\n",
       "      <td>https://kalam.freshteam.com/hire/jobs/50000749...</td>\n",
       "      <td>2024-06-03</td>\n",
       "    </tr>\n",
       "    <tr>\n",
       "      <th>3</th>\n",
       "      <td>https://kalam.freshteam.com/hire/jobs/50000749...</td>\n",
       "      <td>2024-06-03</td>\n",
       "    </tr>\n",
       "    <tr>\n",
       "      <th>4</th>\n",
       "      <td>https://kalam.freshteam.com/hire/jobs/50000749...</td>\n",
       "      <td>2024-06-03</td>\n",
       "    </tr>\n",
       "  </tbody>\n",
       "</table>\n",
       "</div>"
      ],
      "text/plain": [
       "                                            Jobs URL Updated on\n",
       "0  https://kalam.freshteam.com/hire/jobs/50000742... 2024-06-03\n",
       "1  https://kalam.freshteam.com/hire/jobs/50000749... 2024-06-03\n",
       "2  https://kalam.freshteam.com/hire/jobs/50000749... 2024-06-03\n",
       "3  https://kalam.freshteam.com/hire/jobs/50000749... 2024-06-03\n",
       "4  https://kalam.freshteam.com/hire/jobs/50000749... 2024-06-03"
      ]
     },
     "execution_count": 4,
     "metadata": {},
     "output_type": "execute_result"
    }
   ],
   "source": [
    "df.head()"
   ]
  },
  {
   "cell_type": "code",
   "execution_count": 5,
   "id": "25a1cbeb",
   "metadata": {},
   "outputs": [],
   "source": [
    "urls = df['Jobs URL']"
   ]
  },
  {
   "cell_type": "markdown",
   "id": "d96122d5",
   "metadata": {},
   "source": [
    "#### Define driver to open chrome"
   ]
  },
  {
   "cell_type": "code",
   "execution_count": 9,
   "id": "4e71c223-ff85-453a-8a54-861ab849a248",
   "metadata": {},
   "outputs": [],
   "source": [
    "# Path to your WebDriver executable\n",
    "path = r\"C:\\Program Files (x86)\\chromedriver.exe\"\n",
    "\n",
    "# Create a Service object to pass to WebDriver\n",
    "service = Service(executable_path=path)\n",
    "\n",
    "# Now, initialize your driver with this service\n",
    "driver = webdriver.Chrome(service=service)"
   ]
  },
  {
   "cell_type": "code",
   "execution_count": 121,
   "id": "ca059f3a",
   "metadata": {},
   "outputs": [],
   "source": [
    "def find_toggle_and_save():\n",
    "    #time.sleep(2)\n",
    "    job_board_button = WebDriverWait(driver, 10).until(\n",
    "        EC.element_to_be_clickable((By.CSS_SELECTOR, \"#job_boards > div.inline-block-card > div\"))\n",
    "    )\n",
    "    print(\"found job board\")\n",
    "    \n",
    "        \n",
    "    #time.sleep(2)\n",
    "    job_board_button.click()\n",
    "    #time.sleep(2)\n",
    "    print(\"clicked job board\")\n",
    "    \n",
    "    time.sleep(2)\n",
    "    \n",
    "    toggle_all_button = WebDriverWait(driver, 10).until(\n",
    "        EC.presence_of_all_elements_located((By.CLASS_NAME, \"toggle-btn\"))\n",
    "    )\n",
    "    print(\"found toggle\")\n",
    "                        \n",
    "    #time.sleep(2)\n",
    "    toggle_all_button[0].click()\n",
    "    print(\"clicked toggle\")\n",
    "    #time.sleep(2)   #arbitrary time wait\n",
    "    \n",
    "    save_button = WebDriverWait(driver, 10).until(\n",
    "    EC.element_to_be_clickable((By.XPATH, \"/html/body/div[5]/div[1]/div/div/form/button[1]\"))\n",
    "    )\n",
    "    \n",
    "    print(\"found cancel\")\n",
    "    #time.sleep(2)\n",
    "    save_button.click()\n",
    "    \n",
    "    print(\"clicked cancel\")\n",
    "    #time.sleep(2)"
   ]
  },
  {
   "cell_type": "markdown",
   "id": "3861593d-30c6-4c33-ab09-88aa10d65d68",
   "metadata": {},
   "source": [
    "#### Dummy Open to first log in:"
   ]
  },
  {
   "cell_type": "code",
   "execution_count": 12,
   "id": "e345c63e-8486-4517-813f-b3806e97519d",
   "metadata": {},
   "outputs": [],
   "source": [
    "driver.get(urls[0])"
   ]
  },
  {
   "cell_type": "code",
   "execution_count": 64,
   "id": "d3071169-6c9b-4cad-a879-22a40074208a",
   "metadata": {},
   "outputs": [
    {
     "name": "stdout",
     "output_type": "stream",
     "text": [
      "Progress: 0% complete\n",
      "Progress: 10% complete\n",
      "Progress: 20% complete\n",
      "Progress: 30% complete\n",
      "Progress: 40% complete\n",
      "Progress: 50% complete\n",
      "Progress: 60% complete\n",
      "Progress: 70% complete\n",
      "Progress: 80% complete\n",
      "Progress: 90% complete\n",
      "Progress: 100% complete\n",
      "100% Completed, Done!\n"
     ]
    }
   ],
   "source": [
    "for i,url in enumerate(urls):\n",
    "    step = len(urls) // 10\n",
    "    if (i % step == 0):\n",
    "        print(f\"Progress: {round(i / len(urls) * 100)}% complete\")\n",
    "print(f\"100% Completed, Done!\")"
   ]
  },
  {
   "cell_type": "markdown",
   "id": "081f4abe-b1ec-4ff7-98e3-e0e537e4877d",
   "metadata": {},
   "source": [
    "#### The Deed"
   ]
  },
  {
   "cell_type": "code",
   "execution_count": 122,
   "id": "6941abfd",
   "metadata": {},
   "outputs": [
    {
     "name": "stdout",
     "output_type": "stream",
     "text": [
      "found job board\n",
      "clicked job board\n",
      "found toggle\n",
      "clicked toggle\n",
      "found cancel\n",
      "clicked toggle\n",
      "found job board\n",
      "clicked job board\n",
      "found toggle\n",
      "clicked toggle\n",
      "found cancel\n",
      "clicked toggle\n"
     ]
    }
   ],
   "source": [
    "for url in urls[0:1]:\n",
    "    state = 'Online'\n",
    "    if (i % step == 0):\n",
    "        print(f\"Progress: {round(i / len(urls) * 100)}% complete\")\n",
    "        \n",
    "    try:\n",
    "        driver.get(url)\n",
    "        #time.sleep(4) \n",
    "\n",
    "        find_toggle_and_save()\n",
    "        \n",
    "        state = 'Offline' \n",
    "        \n",
    "        \n",
    "        find_toggle_and_save()\n",
    "        \n",
    "        state = 'Online' \n",
    "\n",
    "    except WebDriverException as e:\n",
    "        print(f\"An error occurred when the state was '{state}' at URL: {url}\")\n",
    "        print(\"Error details:\", str(e))\n",
    "\n",
    "print(f\"100% Completed, Done!\")"
   ]
  },
  {
   "cell_type": "markdown",
   "id": "0bfc3631",
   "metadata": {},
   "source": [
    "#### Open Job Board"
   ]
  },
  {
   "cell_type": "code",
   "execution_count": 18,
   "id": "ce028b6e",
   "metadata": {},
   "outputs": [],
   "source": [
    "# Go to the webpage\n",
    "driver.get('file:///D:/Python/tes/jobexample.html')"
   ]
  },
  {
   "cell_type": "code",
   "execution_count": 66,
   "id": "8a3e3875",
   "metadata": {},
   "outputs": [],
   "source": [
    "job_board_button = driver.find_element(By.XPATH, \"/html/body/div[6]/div[1]/div[1]/div[5]/div[1]/div[2]/div/div[3]/div[1]/div\")\n",
    "time.sleep(5)\n",
    "job_board_button.click()"
   ]
  },
  {
   "cell_type": "markdown",
   "id": "1d85db30",
   "metadata": {},
   "source": [
    "#### Disable Jobs and save"
   ]
  },
  {
   "cell_type": "code",
   "execution_count": 94,
   "id": "8fa3a109",
   "metadata": {},
   "outputs": [],
   "source": [
    "driver.get('https://kalam.freshteam.com/hire/jobs/5000074951/info')"
   ]
  },
  {
   "cell_type": "code",
   "execution_count": 67,
   "id": "ca6083b7",
   "metadata": {},
   "outputs": [],
   "source": [
    "# Find all toggle buttons by their class\n",
    "toggle_all_button = driver.find_element(By.CLASS_NAME, \"toggle-btn\")"
   ]
  },
  {
   "cell_type": "code",
   "execution_count": 68,
   "id": "d5636a24",
   "metadata": {},
   "outputs": [],
   "source": [
    "toggle_all_button.click()\n",
    "time.sleep(0.5)"
   ]
  },
  {
   "cell_type": "code",
   "execution_count": 64,
   "id": "aefd07dc",
   "metadata": {},
   "outputs": [],
   "source": [
    "save_button = driver.find_element(By.CSS_SELECTOR, \"button.btn-primary\")\n",
    "time.sleep(4)\n",
    "save_button.click()"
   ]
  },
  {
   "cell_type": "code",
   "execution_count": null,
   "id": "627acee4",
   "metadata": {},
   "outputs": [],
   "source": []
  },
  {
   "cell_type": "markdown",
   "id": "e25bd138",
   "metadata": {},
   "source": [
    "#### Open Job"
   ]
  },
  {
   "cell_type": "code",
   "execution_count": 16,
   "id": "99cb774b",
   "metadata": {},
   "outputs": [],
   "source": [
    "# Go to the webpage\n",
    "driver.get(urls[5])"
   ]
  },
  {
   "cell_type": "code",
   "execution_count": 21,
   "id": "edbc2145",
   "metadata": {},
   "outputs": [
    {
     "ename": "NoSuchElementException",
     "evalue": "Message: no such element: Unable to locate element: {\"method\":\"css selector\",\"selector\":\"[id=\"ember215\"]\"}\n  (Session info: chrome=125.0.6422.142)\n",
     "output_type": "error",
     "traceback": [
      "\u001b[1;31m---------------------------------------------------------------------------\u001b[0m",
      "\u001b[1;31mNoSuchElementException\u001b[0m                    Traceback (most recent call last)",
      "Cell \u001b[1;32mIn [21], line 1\u001b[0m\n\u001b[1;32m----> 1\u001b[0m recruitment_button \u001b[38;5;241m=\u001b[39m \u001b[43mdriver\u001b[49m\u001b[38;5;241;43m.\u001b[39;49m\u001b[43mfind_element\u001b[49m\u001b[43m(\u001b[49m\u001b[43mBy\u001b[49m\u001b[38;5;241;43m.\u001b[39;49m\u001b[43mID\u001b[49m\u001b[43m,\u001b[49m\u001b[43m \u001b[49m\u001b[38;5;124;43m\"\u001b[39;49m\u001b[38;5;124;43member215\u001b[39;49m\u001b[38;5;124;43m\"\u001b[39;49m\u001b[43m)\u001b[49m\n\u001b[0;32m      2\u001b[0m time\u001b[38;5;241m.\u001b[39msleep(\u001b[38;5;241m5\u001b[39m)\n\u001b[0;32m      3\u001b[0m recruitment_button\u001b[38;5;241m.\u001b[39mclick()\n",
      "File \u001b[1;32m~\\anaconda3\\envs\\graduate_env\\lib\\site-packages\\selenium\\webdriver\\remote\\webdriver.py:976\u001b[0m, in \u001b[0;36mWebDriver.find_element\u001b[1;34m(self, by, value)\u001b[0m\n\u001b[0;32m    974\u001b[0m         by \u001b[38;5;241m=\u001b[39m By\u001b[38;5;241m.\u001b[39mCSS_SELECTOR\n\u001b[0;32m    975\u001b[0m         value \u001b[38;5;241m=\u001b[39m \u001b[38;5;124m'\u001b[39m\u001b[38;5;124m[name=\u001b[39m\u001b[38;5;124m\"\u001b[39m\u001b[38;5;132;01m%s\u001b[39;00m\u001b[38;5;124m\"\u001b[39m\u001b[38;5;124m]\u001b[39m\u001b[38;5;124m'\u001b[39m \u001b[38;5;241m%\u001b[39m value\n\u001b[1;32m--> 976\u001b[0m \u001b[38;5;28;01mreturn\u001b[39;00m \u001b[38;5;28;43mself\u001b[39;49m\u001b[38;5;241;43m.\u001b[39;49m\u001b[43mexecute\u001b[49m\u001b[43m(\u001b[49m\u001b[43mCommand\u001b[49m\u001b[38;5;241;43m.\u001b[39;49m\u001b[43mFIND_ELEMENT\u001b[49m\u001b[43m,\u001b[49m\u001b[43m \u001b[49m\u001b[43m{\u001b[49m\n\u001b[0;32m    977\u001b[0m \u001b[43m    \u001b[49m\u001b[38;5;124;43m'\u001b[39;49m\u001b[38;5;124;43musing\u001b[39;49m\u001b[38;5;124;43m'\u001b[39;49m\u001b[43m:\u001b[49m\u001b[43m \u001b[49m\u001b[43mby\u001b[49m\u001b[43m,\u001b[49m\n\u001b[0;32m    978\u001b[0m \u001b[43m    \u001b[49m\u001b[38;5;124;43m'\u001b[39;49m\u001b[38;5;124;43mvalue\u001b[39;49m\u001b[38;5;124;43m'\u001b[39;49m\u001b[43m:\u001b[49m\u001b[43m \u001b[49m\u001b[43mvalue\u001b[49m\u001b[43m}\u001b[49m\u001b[43m)\u001b[49m[\u001b[38;5;124m'\u001b[39m\u001b[38;5;124mvalue\u001b[39m\u001b[38;5;124m'\u001b[39m]\n",
      "File \u001b[1;32m~\\anaconda3\\envs\\graduate_env\\lib\\site-packages\\selenium\\webdriver\\remote\\webdriver.py:321\u001b[0m, in \u001b[0;36mWebDriver.execute\u001b[1;34m(self, driver_command, params)\u001b[0m\n\u001b[0;32m    319\u001b[0m response \u001b[38;5;241m=\u001b[39m \u001b[38;5;28mself\u001b[39m\u001b[38;5;241m.\u001b[39mcommand_executor\u001b[38;5;241m.\u001b[39mexecute(driver_command, params)\n\u001b[0;32m    320\u001b[0m \u001b[38;5;28;01mif\u001b[39;00m response:\n\u001b[1;32m--> 321\u001b[0m     \u001b[38;5;28;43mself\u001b[39;49m\u001b[38;5;241;43m.\u001b[39;49m\u001b[43merror_handler\u001b[49m\u001b[38;5;241;43m.\u001b[39;49m\u001b[43mcheck_response\u001b[49m\u001b[43m(\u001b[49m\u001b[43mresponse\u001b[49m\u001b[43m)\u001b[49m\n\u001b[0;32m    322\u001b[0m     response[\u001b[38;5;124m'\u001b[39m\u001b[38;5;124mvalue\u001b[39m\u001b[38;5;124m'\u001b[39m] \u001b[38;5;241m=\u001b[39m \u001b[38;5;28mself\u001b[39m\u001b[38;5;241m.\u001b[39m_unwrap_value(\n\u001b[0;32m    323\u001b[0m         response\u001b[38;5;241m.\u001b[39mget(\u001b[38;5;124m'\u001b[39m\u001b[38;5;124mvalue\u001b[39m\u001b[38;5;124m'\u001b[39m, \u001b[38;5;28;01mNone\u001b[39;00m))\n\u001b[0;32m    324\u001b[0m     \u001b[38;5;28;01mreturn\u001b[39;00m response\n",
      "File \u001b[1;32m~\\anaconda3\\envs\\graduate_env\\lib\\site-packages\\selenium\\webdriver\\remote\\errorhandler.py:242\u001b[0m, in \u001b[0;36mErrorHandler.check_response\u001b[1;34m(self, response)\u001b[0m\n\u001b[0;32m    240\u001b[0m         alert_text \u001b[38;5;241m=\u001b[39m value[\u001b[38;5;124m'\u001b[39m\u001b[38;5;124malert\u001b[39m\u001b[38;5;124m'\u001b[39m]\u001b[38;5;241m.\u001b[39mget(\u001b[38;5;124m'\u001b[39m\u001b[38;5;124mtext\u001b[39m\u001b[38;5;124m'\u001b[39m)\n\u001b[0;32m    241\u001b[0m     \u001b[38;5;28;01mraise\u001b[39;00m exception_class(message, screen, stacktrace, alert_text)\n\u001b[1;32m--> 242\u001b[0m \u001b[38;5;28;01mraise\u001b[39;00m exception_class(message, screen, stacktrace)\n",
      "\u001b[1;31mNoSuchElementException\u001b[0m: Message: no such element: Unable to locate element: {\"method\":\"css selector\",\"selector\":\"[id=\"ember215\"]\"}\n  (Session info: chrome=125.0.6422.142)\n"
     ]
    }
   ],
   "source": [
    "recruitment_button = driver.find_element(By.ID, \"ember215\")\n",
    "time.sleep(5)\n",
    "recruitment_button.click()"
   ]
  },
  {
   "cell_type": "markdown",
   "id": "9f1ffb59",
   "metadata": {},
   "source": [
    "#### Open Job details"
   ]
  },
  {
   "cell_type": "code",
   "execution_count": 6,
   "id": "3f7c3b74",
   "metadata": {},
   "outputs": [],
   "source": [
    "# Go to the webpage\n",
    "driver.get('file:///D:/Python/tes/recruitment_page.html')"
   ]
  },
  {
   "cell_type": "markdown",
   "id": "1295d656",
   "metadata": {},
   "source": [
    "# Youtube Training"
   ]
  },
  {
   "cell_type": "code",
   "execution_count": 93,
   "id": "a86f3445",
   "metadata": {},
   "outputs": [],
   "source": [
    "# Go to the webpage\n",
    "driver.get('https://www.youtube.com/')\n",
    "input_element = WebDriverWait(driver,10).until(\n",
    "    EC.element_to_be_clickable((By.XPATH, \"/html/body/ytd-app/div[1]/tp-yt-app-drawer/div[2]/div/div[2]/div[2]/ytd-guide-renderer/div[1]/ytd-guide-section-renderer[3]/div/ytd-guide-entry-renderer[5]/a/tp-yt-paper-item/yt-formatted-string\"))\n",
    ")\n",
    "input_element.click()"
   ]
  },
  {
   "cell_type": "markdown",
   "id": "1bc50394",
   "metadata": {},
   "source": [
    "CSS_SELECTOR\n",
    "CLASS_NAME\n",
    "NAME"
   ]
  },
  {
   "cell_type": "code",
   "execution_count": 90,
   "id": "f9f89d3d",
   "metadata": {},
   "outputs": [],
   "source": [
    "#WebDriverwait(driver,10).until(EC.presence_of_element_located(By.CLASS_NAME, 'gLFyf'))\n",
    "\n",
    "input_elements = driver.find_elements(By.CLASS_NAME, \"style-scope ytd-guide-entry-renderer\")\n",
    "\n",
    "#input_element.click()\n",
    "#input_element.send_keys(\"no this is acc working\" + Keys.ENTER)\n"
   ]
  },
  {
   "cell_type": "code",
   "execution_count": 91,
   "id": "5b650594",
   "metadata": {},
   "outputs": [],
   "source": [
    "input_element = driver.find_element(By.XPATH, \"/html/body/ytd-app/div[1]/tp-yt-app-drawer/div[2]/div/div[2]/div[2]/ytd-guide-renderer/div[1]/ytd-guide-section-renderer[3]/div/ytd-guide-entry-renderer[5]/a/tp-yt-paper-item/yt-formatted-string\")\n",
    "input_element.click()"
   ]
  },
  {
   "cell_type": "code",
   "execution_count": null,
   "id": "40a5c6b1",
   "metadata": {},
   "outputs": [],
   "source": [
    "time.sleep(3)\n",
    "search.send_keys(\"test\")\n",
    "time.sleep(3)\n",
    "search.send_keys(Keys.RETURN)"
   ]
  },
  {
   "cell_type": "markdown",
   "id": "8bd47953",
   "metadata": {},
   "source": [
    "# Email Test"
   ]
  },
  {
   "cell_type": "code",
   "execution_count": null,
   "id": "e745e9c4",
   "metadata": {},
   "outputs": [],
   "source": [
    "# Create a new instance of the browser driver\n",
    "driver = webdriver.Chrome()"
   ]
  },
  {
   "cell_type": "code",
   "execution_count": null,
   "id": "56412676",
   "metadata": {},
   "outputs": [],
   "source": [
    "# Go to the webpage\n",
    "driver.get('https://outlook.office.com/mail/')\n",
    "\n",
    "# Wait for the user to log in manually\n",
    "input(\"Press Enter in this console once you have logged in...\")\n"
   ]
  },
  {
   "cell_type": "code",
   "execution_count": null,
   "id": "b45b7233",
   "metadata": {},
   "outputs": [],
   "source": [
    "# Use the updated method to find the body element and scroll down\n",
    "body = driver.find_element(By.TAG_NAME, 'body')\n",
    "body.send_keys(Keys.END)\n",
    "time.sleep(3)  # Wait for the page to load more emails\n",
    "\n",
    "# You may need to repeat the scrolling multiple times depending on how many emails load each time\n",
    "body.send_keys(Keys.END)\n",
    "time.sleep(3)"
   ]
  },
  {
   "cell_type": "code",
   "execution_count": null,
   "id": "a5cbc1ba",
   "metadata": {},
   "outputs": [],
   "source": [
    "from selenium.webdriver.common.keys import Keys\n",
    "# Scroll down\n",
    "\n",
    "all_emails = []\n",
    "\n",
    "# Try scrolling down gradually\n",
    "for _ in range(10):  # Adjust the range based on how much content needs to be scrolled through\n",
    "    \n",
    "    pointer_emails = driver.find_elements(By.CSS_SELECTOR, \"div.XG5Jd.TszOG\")\n",
    "    time.sleep(1)  # Short sleep to allow the page to load more content\n",
    "    pointer_emails[-1].click()\n",
    "    \n",
    "    all_emails.append()\n",
    "    \n",
    "    \n",
    "x = driver.find_elements(By.CSS_SELECTOR, \"div.XG5Jd.TszOG\")\n",
    "\n",
    "#flat_all_emails = [x for xs in all_emails for x in xs]\n",
    "    \n",
    "print(len(x))"
   ]
  },
  {
   "cell_type": "code",
   "execution_count": null,
   "id": "cdab8172",
   "metadata": {},
   "outputs": [],
   "source": [
    "\n",
    "\n",
    "def drag_scrollbar(driver):\n",
    "    \n",
    "    scrollbar_selector = \"#MailList > div > div > div > div > div > div\"\n",
    "    scrollbar = driver.find_element(By.CSS_SELECTOR, scrollbar_selector)  # You need the correct selector\n",
    "    actions = ActionChains(driver)\n",
    "    actions.click_and_hold(scrollbar).move_by_offset(0, 100).release().perform()  # Drag the scrollbar down\n",
    "    time.sleep(2)  # Let the page load\n",
    "\n"
   ]
  },
  {
   "cell_type": "code",
   "execution_count": null,
   "id": "e09897a9",
   "metadata": {},
   "outputs": [],
   "source": [
    "import time\n",
    "\n",
    "\n",
    "all_emails = []\n",
    "\n",
    "\n",
    "# Assuming driver is already set up and you are on the email page\n",
    "# Scrollable container CSS Selector\n",
    "scrollable_container_selector = \"#MailList > div > div > div > div > div > div\"\n",
    "# Find the scrollable container element\n",
    "scrollable_container = driver.find_element(By.CSS_SELECTOR, scrollable_container_selector)\n",
    "\n",
    "# Scroll down within the container using JavaScript\n",
    "for _ in range(2):  # Adjust the range as necessary based on testing\n",
    "    emails = driver.find_elements(By.CSS_SELECTOR, \"div.XG5Jd.TszOG\")\n",
    "    print(len(emails))\n",
    "    all_emails.append(emails)\n",
    "    driver.execute_script(\"arguments[0].scrollTop = arguments[0].scrollHeight\", scrollable_container)\n",
    "    time.sleep(2)  # Allow time for emails to load after each scroll\n",
    "\n",
    "\n",
    "flat_all_emails = [x for xs in all_emails for x in xs]\n",
    "    \n",
    "print(len(flat_all_emails))\n"
   ]
  },
  {
   "cell_type": "code",
   "execution_count": null,
   "id": "66836afb",
   "metadata": {},
   "outputs": [],
   "source": [
    "for email in flat_all_emails:\n",
    "    print(email.text)"
   ]
  },
  {
   "cell_type": "code",
   "execution_count": null,
   "id": "3e3f9a3e",
   "metadata": {},
   "outputs": [],
   "source": [
    "from selenium import webdriver\n",
    "from selenium.webdriver.common.by import By\n",
    "from selenium.webdriver.common.keys import Keys\n",
    "import time\n",
    "\n",
    "# Assuming driver is already initialized and navigated to the appropriate page\n",
    "all_emails = []\n",
    "# Fetch the first 10 elements\n",
    "#first_batch = driver.find_elements(By.CSS_SELECTOR, \"div.XG5Jd.TszOG\")\n",
    "#print(f\"First batch length: {len(first_batch)}\")  # Should print 10 if there are at least 10 elements\n",
    "\n",
    "for i in range(3):\n",
    "    batch = driver.find_elements(By.CSS_SELECTOR, \"div.XG5Jd.TszOG\")\n",
    "    all_emails.append(batch)\n",
    "    \n",
    "    print(f\"batch number {i+1} length: {len(first_batch)}\") \n",
    "    \n",
    "    last_element = batch[-1]  # Index 9 for the 10th element\n",
    "    \n",
    "    print(last_element.text)\n",
    "    \n",
    "    driver.execute_script(\"arguments[0].scrollIntoView();\", last_element)\n",
    "    time.sleep(2)  # Allow time for any lazy loading triggered by the scroll\n",
    "    last_element.click()\n",
    "    time.sleep(2)\n",
    "    \n",
    "    \n",
    "\n"
   ]
  },
  {
   "cell_type": "code",
   "execution_count": null,
   "id": "a7226fbe",
   "metadata": {},
   "outputs": [],
   "source": [
    "flat_all_emails = [x for xs in all_emails for x in xs]"
   ]
  }
 ],
 "metadata": {
  "kernelspec": {
   "display_name": "data_mining_env",
   "language": "python",
   "name": "data_mining_env"
  },
  "language_info": {
   "codemirror_mode": {
    "name": "ipython",
    "version": 3
   },
   "file_extension": ".py",
   "mimetype": "text/x-python",
   "name": "python",
   "nbconvert_exporter": "python",
   "pygments_lexer": "ipython3",
   "version": "3.8.19"
  }
 },
 "nbformat": 4,
 "nbformat_minor": 5
}
